{
 "cells": [
  {
   "cell_type": "markdown",
   "id": "2d306ac2-75ad-4095-a771-23eff9c8a8ec",
   "metadata": {},
   "source": [
    "## Получает ли человек больше суммы N или меньше"
   ]
  },
  {
   "cell_type": "code",
   "execution_count": 78,
   "id": "404af11b-aedb-4620-9128-0ee1cb6680e8",
   "metadata": {},
   "outputs": [],
   "source": [
    "import pandas as pd\n",
    "import numpy as np\n",
    "import matplotlib.pyplot as plt\n",
    "import seaborn as sns"
   ]
  },
  {
   "cell_type": "markdown",
   "id": "025f1482-fd73-4344-903c-584c3fda2a0e",
   "metadata": {},
   "source": [
    "### EDA Dataset"
   ]
  },
  {
   "cell_type": "code",
   "execution_count": 79,
   "id": "5aa4e60a-07ae-465d-8608-89a400391d92",
   "metadata": {},
   "outputs": [
    {
     "name": "stdout",
     "output_type": "stream",
     "text": [
      "(32573, 15)\n",
      "Feature: sex unique: 2\n",
      "\n",
      "['Male' 'Female'] \n",
      "\n",
      "Feature: occupation unique: 15\n",
      "\n",
      "['Adm-clerical' 'Exec-managerial' 'Handlers-cleaners' 'Prof-specialty'\n",
      " 'Other-service' 'Sales' 'Craft-repair' 'Transport-moving'\n",
      " 'Farming-fishing' 'Machine-op-inspct' 'Tech-support' nan\n",
      " 'Protective-serv' 'Armed-Forces' 'Priv-house-serv'] \n",
      "\n",
      "Feature: marital-status unique: 7\n",
      "\n",
      "['Never-married' 'Married-civ-spouse' 'Divorced' 'Married-spouse-absent'\n",
      " 'Separated' 'Married-AF-spouse' 'Widowed'] \n",
      "\n",
      "Feature: target unique: 2\n",
      "\n",
      "[0 1] \n",
      "\n",
      "Feature: race unique: 5\n",
      "\n",
      "['White' 'Black' 'Asian-Pac-Islander' 'Amer-Indian-Eskimo' 'Other'] \n",
      "\n",
      "Feature: workclass unique: 9\n",
      "\n",
      "['State-gov' 'Self-emp-not-inc' 'Private' 'Federal-gov' 'Local-gov' nan\n",
      " 'Self-emp-inc' 'Without-pay' 'Never-worked'] \n",
      "\n",
      "Feature: education unique: 16\n",
      "\n",
      "['Bachelors' 'HS-grad' '11th' 'Masters' '9th' 'Some-college' 'Assoc-acdm'\n",
      " 'Assoc-voc' '7th-8th' 'Doctorate' 'Prof-school' '5th-6th' '10th'\n",
      " '1st-4th' 'Preschool' '12th'] \n",
      "\n",
      "Feature: relationship unique: 6\n",
      "\n",
      "['Not-in-family' 'Husband' 'Wife' 'Own-child' 'Unmarried' 'Other-relative'] \n",
      "\n",
      "Feature: native-country unique: 42\n",
      "\n",
      "['United-States' 'Cuba' 'Jamaica' 'India' nan 'Mexico' 'South'\n",
      " 'Puerto-Rico' 'Honduras' 'England' 'Canada' 'Germany' 'Iran'\n",
      " 'Philippines' 'Italy' 'Poland' 'Columbia' 'Cambodia' 'Thailand' 'Ecuador'\n",
      " 'Laos' 'Taiwan' 'Haiti' 'Portugal' 'Dominican-Republic' 'El-Salvador'\n",
      " 'France' 'Guatemala' 'China' 'Japan' 'Yugoslavia' 'Peru'\n",
      " 'Outlying-US(Guam-USVI-etc)' 'Scotland' 'Trinadad&Tobago' 'Greece'\n",
      " 'Nicaragua' 'Vietnam' 'Hong' 'Ireland' 'Hungary' 'Holand-Netherlands'] \n",
      "\n"
     ]
    }
   ],
   "source": [
    "names = [\n",
    "    'age', 'workclass', 'final_weight', 'education',\n",
    "    'education-num', 'marital-status', 'occupation',\n",
    "    'relationship', 'race', 'sex', 'cap-gain',\n",
    "    'cap-loss', 'hours-per-week', 'native-country',\n",
    "    'target'\n",
    "]\n",
    "dtypes = {\n",
    "    'workclass': 'category',\n",
    "    'education': 'category',   \n",
    "    'marital-status': 'category',\n",
    "    'occupation': 'category',\n",
    "    'relationship': 'category',\n",
    "    'race': 'category',\n",
    "    'sex': 'category',\n",
    "    'native-country': 'category',\n",
    "    'target' : 'category'\n",
    "}\n",
    "\n",
    "categorial_columns = {\n",
    "    'workclass',\n",
    "    'education',\n",
    "    'marital-status',\n",
    "    'occupation',\n",
    "    'relationship',\n",
    "    'race',\n",
    "    'sex',\n",
    "    'native-country',\n",
    "    'target'\n",
    "}\n",
    "\n",
    "scale_columns = {'age', \n",
    "                 'final_weight',              \n",
    "                 'education-num', \n",
    "                 'cap-gain', \n",
    "                 'cap-loss', \n",
    "                 'hours-per-week', \n",
    "                 }\n",
    "\n",
    "df = pd.read_csv('./data.txt', names=names, dtype=dtypes, na_values=' ?')\n",
    "\n",
    "print(df.shape)\n",
    "# df.dropna(inplace=True)\n",
    "for col in categorial_columns:\n",
    "    df[col] = df[col].str.strip()\n",
    "\n",
    "df = df[df['age'] != 'totally_legit_string']\n",
    "df['age'] = df['age'].astype('int') \n",
    "df = df[df['age'] > 1]\n",
    "\n",
    "df['hours-per-week'] = df['hours-per-week'].str.strip()\n",
    "df['hours-per-week'] = df['hours-per-week'].astype('int') \n",
    "\n",
    "df['education-num'] = df['education-num'].str.strip()\n",
    "df['education-num'] = df['education-num'].astype('int') \n",
    "\n",
    "df = df[df['native-country'] != '>N']\n",
    "df = df[df['target'] != np.nan]\n",
    "\n",
    "df['target'] = df['target'].map({'<=N': 0, '>N': 1})\n",
    "\n",
    "for col in categorial_columns:    \n",
    "    unique = df[col].unique()\n",
    "    print('Feature: {0} unique: {1}\\n'.format(col, len(unique)))\n",
    "    print(unique,'\\n')\n"
   ]
  },
  {
   "cell_type": "code",
   "execution_count": 80,
   "id": "70bafe5f-e056-4c20-a900-51db5d5d0c3e",
   "metadata": {},
   "outputs": [
    {
     "data": {
      "text/html": [
       "<div>\n",
       "<style scoped>\n",
       "    .dataframe tbody tr th:only-of-type {\n",
       "        vertical-align: middle;\n",
       "    }\n",
       "\n",
       "    .dataframe tbody tr th {\n",
       "        vertical-align: top;\n",
       "    }\n",
       "\n",
       "    .dataframe thead th {\n",
       "        text-align: right;\n",
       "    }\n",
       "</style>\n",
       "<table border=\"1\" class=\"dataframe\">\n",
       "  <thead>\n",
       "    <tr style=\"text-align: right;\">\n",
       "      <th></th>\n",
       "      <th>age</th>\n",
       "      <th>workclass</th>\n",
       "      <th>final_weight</th>\n",
       "      <th>education</th>\n",
       "      <th>education-num</th>\n",
       "      <th>marital-status</th>\n",
       "      <th>occupation</th>\n",
       "      <th>relationship</th>\n",
       "      <th>race</th>\n",
       "      <th>sex</th>\n",
       "      <th>cap-gain</th>\n",
       "      <th>cap-loss</th>\n",
       "      <th>hours-per-week</th>\n",
       "      <th>native-country</th>\n",
       "      <th>target</th>\n",
       "    </tr>\n",
       "  </thead>\n",
       "  <tbody>\n",
       "    <tr>\n",
       "      <th>count</th>\n",
       "      <td>32561.000000</td>\n",
       "      <td>30725</td>\n",
       "      <td>3.256100e+04</td>\n",
       "      <td>32561</td>\n",
       "      <td>32561.000000</td>\n",
       "      <td>32561</td>\n",
       "      <td>30718</td>\n",
       "      <td>32561</td>\n",
       "      <td>32561</td>\n",
       "      <td>32561</td>\n",
       "      <td>32561.000000</td>\n",
       "      <td>32561.000000</td>\n",
       "      <td>32561.000000</td>\n",
       "      <td>31978</td>\n",
       "      <td>32561.000000</td>\n",
       "    </tr>\n",
       "    <tr>\n",
       "      <th>mean</th>\n",
       "      <td>38.581647</td>\n",
       "      <td>NaN</td>\n",
       "      <td>1.897784e+05</td>\n",
       "      <td>NaN</td>\n",
       "      <td>10.080679</td>\n",
       "      <td>NaN</td>\n",
       "      <td>NaN</td>\n",
       "      <td>NaN</td>\n",
       "      <td>NaN</td>\n",
       "      <td>NaN</td>\n",
       "      <td>1077.648844</td>\n",
       "      <td>87.303830</td>\n",
       "      <td>40.437456</td>\n",
       "      <td>NaN</td>\n",
       "      <td>0.240810</td>\n",
       "    </tr>\n",
       "    <tr>\n",
       "      <th>std</th>\n",
       "      <td>13.640433</td>\n",
       "      <td>NaN</td>\n",
       "      <td>1.055500e+05</td>\n",
       "      <td>NaN</td>\n",
       "      <td>2.572720</td>\n",
       "      <td>NaN</td>\n",
       "      <td>NaN</td>\n",
       "      <td>NaN</td>\n",
       "      <td>NaN</td>\n",
       "      <td>NaN</td>\n",
       "      <td>7385.292085</td>\n",
       "      <td>402.960219</td>\n",
       "      <td>12.347429</td>\n",
       "      <td>NaN</td>\n",
       "      <td>0.427581</td>\n",
       "    </tr>\n",
       "    <tr>\n",
       "      <th>min</th>\n",
       "      <td>17.000000</td>\n",
       "      <td>NaN</td>\n",
       "      <td>1.228500e+04</td>\n",
       "      <td>NaN</td>\n",
       "      <td>1.000000</td>\n",
       "      <td>NaN</td>\n",
       "      <td>NaN</td>\n",
       "      <td>NaN</td>\n",
       "      <td>NaN</td>\n",
       "      <td>NaN</td>\n",
       "      <td>0.000000</td>\n",
       "      <td>0.000000</td>\n",
       "      <td>1.000000</td>\n",
       "      <td>NaN</td>\n",
       "      <td>0.000000</td>\n",
       "    </tr>\n",
       "    <tr>\n",
       "      <th>25%</th>\n",
       "      <td>28.000000</td>\n",
       "      <td>NaN</td>\n",
       "      <td>1.178270e+05</td>\n",
       "      <td>NaN</td>\n",
       "      <td>9.000000</td>\n",
       "      <td>NaN</td>\n",
       "      <td>NaN</td>\n",
       "      <td>NaN</td>\n",
       "      <td>NaN</td>\n",
       "      <td>NaN</td>\n",
       "      <td>0.000000</td>\n",
       "      <td>0.000000</td>\n",
       "      <td>40.000000</td>\n",
       "      <td>NaN</td>\n",
       "      <td>0.000000</td>\n",
       "    </tr>\n",
       "    <tr>\n",
       "      <th>50%</th>\n",
       "      <td>37.000000</td>\n",
       "      <td>NaN</td>\n",
       "      <td>1.783560e+05</td>\n",
       "      <td>NaN</td>\n",
       "      <td>10.000000</td>\n",
       "      <td>NaN</td>\n",
       "      <td>NaN</td>\n",
       "      <td>NaN</td>\n",
       "      <td>NaN</td>\n",
       "      <td>NaN</td>\n",
       "      <td>0.000000</td>\n",
       "      <td>0.000000</td>\n",
       "      <td>40.000000</td>\n",
       "      <td>NaN</td>\n",
       "      <td>0.000000</td>\n",
       "    </tr>\n",
       "    <tr>\n",
       "      <th>75%</th>\n",
       "      <td>48.000000</td>\n",
       "      <td>NaN</td>\n",
       "      <td>2.370510e+05</td>\n",
       "      <td>NaN</td>\n",
       "      <td>12.000000</td>\n",
       "      <td>NaN</td>\n",
       "      <td>NaN</td>\n",
       "      <td>NaN</td>\n",
       "      <td>NaN</td>\n",
       "      <td>NaN</td>\n",
       "      <td>0.000000</td>\n",
       "      <td>0.000000</td>\n",
       "      <td>45.000000</td>\n",
       "      <td>NaN</td>\n",
       "      <td>0.000000</td>\n",
       "    </tr>\n",
       "    <tr>\n",
       "      <th>max</th>\n",
       "      <td>90.000000</td>\n",
       "      <td>NaN</td>\n",
       "      <td>1.484705e+06</td>\n",
       "      <td>NaN</td>\n",
       "      <td>16.000000</td>\n",
       "      <td>NaN</td>\n",
       "      <td>NaN</td>\n",
       "      <td>NaN</td>\n",
       "      <td>NaN</td>\n",
       "      <td>NaN</td>\n",
       "      <td>99999.000000</td>\n",
       "      <td>4356.000000</td>\n",
       "      <td>99.000000</td>\n",
       "      <td>NaN</td>\n",
       "      <td>1.000000</td>\n",
       "    </tr>\n",
       "    <tr>\n",
       "      <th>unique</th>\n",
       "      <td>NaN</td>\n",
       "      <td>8</td>\n",
       "      <td>NaN</td>\n",
       "      <td>16</td>\n",
       "      <td>NaN</td>\n",
       "      <td>7</td>\n",
       "      <td>14</td>\n",
       "      <td>6</td>\n",
       "      <td>5</td>\n",
       "      <td>2</td>\n",
       "      <td>NaN</td>\n",
       "      <td>NaN</td>\n",
       "      <td>NaN</td>\n",
       "      <td>41</td>\n",
       "      <td>NaN</td>\n",
       "    </tr>\n",
       "    <tr>\n",
       "      <th>top</th>\n",
       "      <td>NaN</td>\n",
       "      <td>Private</td>\n",
       "      <td>NaN</td>\n",
       "      <td>HS-grad</td>\n",
       "      <td>NaN</td>\n",
       "      <td>Married-civ-spouse</td>\n",
       "      <td>Prof-specialty</td>\n",
       "      <td>Husband</td>\n",
       "      <td>White</td>\n",
       "      <td>Male</td>\n",
       "      <td>NaN</td>\n",
       "      <td>NaN</td>\n",
       "      <td>NaN</td>\n",
       "      <td>United-States</td>\n",
       "      <td>NaN</td>\n",
       "    </tr>\n",
       "    <tr>\n",
       "      <th>freq</th>\n",
       "      <td>NaN</td>\n",
       "      <td>22696</td>\n",
       "      <td>NaN</td>\n",
       "      <td>10501</td>\n",
       "      <td>NaN</td>\n",
       "      <td>14976</td>\n",
       "      <td>4140</td>\n",
       "      <td>13193</td>\n",
       "      <td>27816</td>\n",
       "      <td>21790</td>\n",
       "      <td>NaN</td>\n",
       "      <td>NaN</td>\n",
       "      <td>NaN</td>\n",
       "      <td>29170</td>\n",
       "      <td>NaN</td>\n",
       "    </tr>\n",
       "  </tbody>\n",
       "</table>\n",
       "</div>"
      ],
      "text/plain": [
       "                 age workclass  final_weight education  education-num  \\\n",
       "count   32561.000000     30725  3.256100e+04     32561   32561.000000   \n",
       "mean       38.581647       NaN  1.897784e+05       NaN      10.080679   \n",
       "std        13.640433       NaN  1.055500e+05       NaN       2.572720   \n",
       "min        17.000000       NaN  1.228500e+04       NaN       1.000000   \n",
       "25%        28.000000       NaN  1.178270e+05       NaN       9.000000   \n",
       "50%        37.000000       NaN  1.783560e+05       NaN      10.000000   \n",
       "75%        48.000000       NaN  2.370510e+05       NaN      12.000000   \n",
       "max        90.000000       NaN  1.484705e+06       NaN      16.000000   \n",
       "unique           NaN         8           NaN        16            NaN   \n",
       "top              NaN   Private           NaN   HS-grad            NaN   \n",
       "freq             NaN     22696           NaN     10501            NaN   \n",
       "\n",
       "            marital-status      occupation relationship   race    sex  \\\n",
       "count                32561           30718        32561  32561  32561   \n",
       "mean                   NaN             NaN          NaN    NaN    NaN   \n",
       "std                    NaN             NaN          NaN    NaN    NaN   \n",
       "min                    NaN             NaN          NaN    NaN    NaN   \n",
       "25%                    NaN             NaN          NaN    NaN    NaN   \n",
       "50%                    NaN             NaN          NaN    NaN    NaN   \n",
       "75%                    NaN             NaN          NaN    NaN    NaN   \n",
       "max                    NaN             NaN          NaN    NaN    NaN   \n",
       "unique                   7              14            6      5      2   \n",
       "top     Married-civ-spouse  Prof-specialty      Husband  White   Male   \n",
       "freq                 14976            4140        13193  27816  21790   \n",
       "\n",
       "            cap-gain      cap-loss  hours-per-week native-country  \\\n",
       "count   32561.000000  32561.000000    32561.000000          31978   \n",
       "mean     1077.648844     87.303830       40.437456            NaN   \n",
       "std      7385.292085    402.960219       12.347429            NaN   \n",
       "min         0.000000      0.000000        1.000000            NaN   \n",
       "25%         0.000000      0.000000       40.000000            NaN   \n",
       "50%         0.000000      0.000000       40.000000            NaN   \n",
       "75%         0.000000      0.000000       45.000000            NaN   \n",
       "max     99999.000000   4356.000000       99.000000            NaN   \n",
       "unique           NaN           NaN             NaN             41   \n",
       "top              NaN           NaN             NaN  United-States   \n",
       "freq             NaN           NaN             NaN          29170   \n",
       "\n",
       "              target  \n",
       "count   32561.000000  \n",
       "mean        0.240810  \n",
       "std         0.427581  \n",
       "min         0.000000  \n",
       "25%         0.000000  \n",
       "50%         0.000000  \n",
       "75%         0.000000  \n",
       "max         1.000000  \n",
       "unique           NaN  \n",
       "top              NaN  \n",
       "freq             NaN  "
      ]
     },
     "execution_count": 80,
     "metadata": {},
     "output_type": "execute_result"
    }
   ],
   "source": [
    "report = []\n",
    "for col in df.columns:\n",
    "    report.append(df[col].describe())\n",
    "report = pd.concat(report, axis=1)\n",
    "report"
   ]
  },
  {
   "cell_type": "markdown",
   "id": "0fcf1e88-2b73-4414-af46-3f341f8d2254",
   "metadata": {},
   "source": [
    "#### Unbalanced classes"
   ]
  },
  {
   "cell_type": "code",
   "execution_count": 242,
   "id": "d58b79fa-7af5-4621-a941-026e63b36735",
   "metadata": {},
   "outputs": [
    {
     "name": "stdout",
     "output_type": "stream",
     "text": [
      "Class=0: samples=22654, percentage=75.11%\n",
      "Class=1: samples=7508, percentage=24.89%\n"
     ]
    },
    {
     "data": {
      "text/plain": [
       "<AxesSubplot:xlabel='count', ylabel='target'>"
      ]
     },
     "execution_count": 242,
     "metadata": {},
     "output_type": "execute_result"
    },
    {
     "data": {
      "image/png": "[encoded data removed]",
      "text/plain": [
       "<Figure size 1440x72 with 1 Axes>"
      ]
     },
     "metadata": {
      "needs_background": "light"
     },
     "output_type": "display_data"
    }
   ],
   "source": [
    "target = df.target\n",
    "target[target == 0].count()/target.count()\n",
    "total = target.count()\n",
    "for i in target.unique():\n",
    "    num_class = target[target == i].count()\n",
    "    percentage = num_class/ total * 100\n",
    "    print('Class=%s: samples=%d, percentage=%0.2f%%' % (i, num_class, percentage))\n",
    "\n",
    "import seaborn as sns\n",
    "import matplotlib.pyplot as plt\n",
    "\n",
    "fig = plt.figure(figsize=(20,1))\n",
    "sns.countplot(y=\"target\", data=df)"
   ]
  },
  {
   "cell_type": "markdown",
   "id": "6a460e1f-f232-48c3-b4ee-1ddaade340f6",
   "metadata": {},
   "source": [
    "#### Hist plots"
   ]
  },
  {
   "cell_type": "code",
   "execution_count": 82,
   "id": "a65c2cdb-99de-40a6-b2cc-386fdf82153d",
   "metadata": {},
   "outputs": [
    {
     "data": {
      "text/plain": [
       "array([[<AxesSubplot:title={'center':'age'}>,\n",
       "        <AxesSubplot:title={'center':'final_weight'}>,\n",
       "        <AxesSubplot:title={'center':'education-num'}>],\n",
       "       [<AxesSubplot:title={'center':'cap-gain'}>,\n",
       "        <AxesSubplot:title={'center':'cap-loss'}>,\n",
       "        <AxesSubplot:title={'center':'hours-per-week'}>],\n",
       "       [<AxesSubplot:title={'center':'target'}>, <AxesSubplot:>,\n",
       "        <AxesSubplot:>]], dtype=object)"
      ]
     },
     "execution_count": 82,
     "metadata": {},
     "output_type": "execute_result"
    },
    {
     "data": {
      "image/png": "[encoded data removed]",
      "text/plain": [
       "<Figure size 720x720 with 9 Axes>"
      ]
     },
     "metadata": {
      "needs_background": "light"
     },
     "output_type": "display_data"
    }
   ],
   "source": [
    "subset = df[df._get_numeric_data().columns]\n",
    "# create a histogram plot of each numeric variable\n",
    "subset.hist(bins=16, log=False, figsize=(10,10))"
   ]
  },
  {
   "cell_type": "markdown",
   "id": "4f4c5ea4-8885-4602-9315-4d4e50d27bf7",
   "metadata": {},
   "source": [
    "#### Hours-per-week"
   ]
  },
  {
   "cell_type": "code",
   "execution_count": 247,
   "id": "46779d35-1289-434f-b0fd-c758e866d799",
   "metadata": {},
   "outputs": [
    {
     "data": {
      "text/plain": [
       "<seaborn.axisgrid.FacetGrid at 0x1a4bd352a30>"
      ]
     },
     "execution_count": 247,
     "metadata": {},
     "output_type": "execute_result"
    },
    {
     "data": {
      "text/plain": [
       "<Figure size 1440x1080 with 0 Axes>"
      ]
     },
     "metadata": {},
     "output_type": "display_data"
    },
    {
     "data": {
      "image/png": "[encoded data removed]",
      "text/plain": [
       "<Figure size 618.375x288 with 2 Axes>"
      ]
     },
     "metadata": {
      "needs_background": "light"
     },
     "output_type": "display_data"
    }
   ],
   "source": [
    "fig = plt.figure(figsize=(20,15)) \n",
    "sns.displot(data=df, x='hours-per-week', hue='target', col='target', height=4, aspect=1)"
   ]
  },
  {
   "cell_type": "markdown",
   "id": "c0916714-20c8-4f14-8c7a-73384119d8d3",
   "metadata": {},
   "source": [
    "#### Capital"
   ]
  },
  {
   "cell_type": "code",
   "execution_count": 245,
   "id": "96c7a7e1-1ddc-4e62-8a60-7028343b78ef",
   "metadata": {},
   "outputs": [
    {
     "data": {
      "text/plain": [
       "<seaborn.axisgrid.FacetGrid at 0x1a4bd338dc0>"
      ]
     },
     "execution_count": 245,
     "metadata": {},
     "output_type": "execute_result"
    },
    {
     "data": {
      "image/png": "[encoded data removed]",
      "text/plain": [
       "<Figure size 474.375x216 with 2 Axes>"
      ]
     },
     "metadata": {
      "needs_background": "light"
     },
     "output_type": "display_data"
    },
    {
     "data": {
      "image/png": "[encoded data removed]",
      "text/plain": [
       "<Figure size 474.375x216 with 2 Axes>"
      ]
     },
     "metadata": {
      "needs_background": "light"
     },
     "output_type": "display_data"
    }
   ],
   "source": [
    "sns.displot(data=df, x='cap-gain', hue='target', col='target', height=3, aspect=1)\n",
    "sns.displot(data=df, x='cap-loss', hue='target', col='target', height=3, aspect=1)"
   ]
  },
  {
   "cell_type": "markdown",
   "id": "4f6d1efc-a20c-4a45-b894-ada7104b74b2",
   "metadata": {},
   "source": [
    "#### Education"
   ]
  },
  {
   "cell_type": "code",
   "execution_count": 83,
   "id": "f8ce106c-0c81-4207-b0e2-4e72d9b4b25a",
   "metadata": {},
   "outputs": [],
   "source": [
    "df['education'].replace('Preschool', 'dropout',inplace=True)\n",
    "df['education'].replace('10th', 'dropout',inplace=True)\n",
    "df['education'].replace('11th', 'dropout',inplace=True)\n",
    "df['education'].replace('12th', 'dropout',inplace=True)\n",
    "df['education'].replace('1st-4th', 'dropout',inplace=True)\n",
    "df['education'].replace('5th-6th', 'dropout',inplace=True)\n",
    "df['education'].replace('7th-8th', 'dropout',inplace=True)\n",
    "df['education'].replace('9th', 'dropout',inplace=True)\n",
    "df['education'].replace('HS-Grad', 'HS-Grad',inplace=True)\n",
    "df['education'].replace('HS-grad', 'HS-Grad',inplace=True)\n",
    "df['education'].replace('Some-college', 'College',inplace=True)\n",
    "df['education'].replace('Assoc-acdm', 'College',inplace=True)\n",
    "df['education'].replace('Assoc-voc', 'College',inplace=True)\n",
    "df['education'].replace('Bachelors', 'Bachelors',inplace=True)\n",
    "df['education'].replace('Masters', 'Masters',inplace=True)\n",
    "df['education'].replace('Prof-school', 'Masters',inplace=True)\n",
    "df['education'].replace('Doctorate', 'Doctorate',inplace=True)"
   ]
  },
  {
   "cell_type": "code",
   "execution_count": 178,
   "id": "4d1d6338-52e2-41b1-b88c-b43828c6c8d3",
   "metadata": {},
   "outputs": [
    {
     "data": {
      "text/plain": [
       "<seaborn.axisgrid.FacetGrid at 0x1a4a5252370>"
      ]
     },
     "execution_count": 178,
     "metadata": {},
     "output_type": "execute_result"
    },
    {
     "data": {
      "text/plain": [
       "<Figure size 1440x1080 with 0 Axes>"
      ]
     },
     "metadata": {},
     "output_type": "display_data"
    },
    {
     "data": {
      "image/png": "[encoded data removed]",
      "text/plain": [
       "<Figure size 762.375x360 with 2 Axes>"
      ]
     },
     "metadata": {
      "needs_background": "light"
     },
     "output_type": "display_data"
    }
   ],
   "source": [
    "fig = plt.figure(figsize=(20,15)) \n",
    "sns.displot(data=df, x='education', hue='target', col='target',  kde=False)"
   ]
  },
  {
   "cell_type": "code",
   "execution_count": 237,
   "id": "e17225cc-7773-40a2-982b-0bf85c9ca504",
   "metadata": {},
   "outputs": [
    {
     "data": {
      "text/plain": [
       "<seaborn.axisgrid.FacetGrid at 0x1a4b9d5feb0>"
      ]
     },
     "execution_count": 237,
     "metadata": {},
     "output_type": "execute_result"
    },
    {
     "data": {
      "text/plain": [
       "<Figure size 1080x504 with 0 Axes>"
      ]
     },
     "metadata": {},
     "output_type": "display_data"
    },
    {
     "data": {
      "image/png": "[encoded data removed]",
      "text/plain": [
       "<Figure size 762.375x360 with 2 Axes>"
      ]
     },
     "metadata": {
      "needs_background": "light"
     },
     "output_type": "display_data"
    }
   ],
   "source": [
    "fig = plt.figure(figsize=(15,7)) \n",
    "sns.displot(data=df, x='education-num', hue='target', col='target',  kde=True)"
   ]
  },
  {
   "cell_type": "markdown",
   "id": "7ebc895a-3253-4a6d-a3aa-026928888aca",
   "metadata": {},
   "source": [
    "#### Race"
   ]
  },
  {
   "cell_type": "code",
   "execution_count": 223,
   "id": "bde251bc-9c7d-4714-8668-d688ef194afa",
   "metadata": {},
   "outputs": [
    {
     "data": {
      "text/plain": [
       "<seaborn.axisgrid.FacetGrid at 0x1a4b55da730>"
      ]
     },
     "execution_count": 223,
     "metadata": {},
     "output_type": "execute_result"
    },
    {
     "data": {
      "text/plain": [
       "<Figure size 1440x1080 with 0 Axes>"
      ]
     },
     "metadata": {},
     "output_type": "display_data"
    },
    {
     "data": {
      "image/png": "[encoded data removed]",
      "text/plain": [
       "<Figure size 762.375x360 with 2 Axes>"
      ]
     },
     "metadata": {
      "needs_background": "light"
     },
     "output_type": "display_data"
    }
   ],
   "source": [
    "fig = plt.figure(figsize=(20,15)) \n",
    "sns.displot(data=df, x='final_weight', hue='target', col='target', kind='hist')"
   ]
  },
  {
   "cell_type": "code",
   "execution_count": 208,
   "id": "618bfc96-0404-45da-a98b-006889bd5f3f",
   "metadata": {},
   "outputs": [
    {
     "data": {
      "text/plain": [
       "<seaborn.axisgrid.FacetGrid at 0x1a4ae05a370>"
      ]
     },
     "execution_count": 208,
     "metadata": {},
     "output_type": "execute_result"
    },
    {
     "data": {
      "text/plain": [
       "<Figure size 1440x1080 with 0 Axes>"
      ]
     },
     "metadata": {},
     "output_type": "display_data"
    },
    {
     "data": {
      "image/png": "[encoded data removed]",
      "text/plain": [
       "<Figure size 1482.38x360 with 2 Axes>"
      ]
     },
     "metadata": {
      "needs_background": "light"
     },
     "output_type": "display_data"
    }
   ],
   "source": [
    "fig = plt.figure(figsize=(20,15)) \n",
    "sns.displot(data=df, x='race', hue='target', col='target',  kde=False, height=5, aspect=2)"
   ]
  },
  {
   "cell_type": "markdown",
   "id": "cc34f24c-d935-4273-9854-e7bde2263d8d",
   "metadata": {},
   "source": [
    "#### Marital-status"
   ]
  },
  {
   "cell_type": "code",
   "execution_count": 84,
   "id": "18014fc3-9e37-4821-a8f1-e59a98e5532c",
   "metadata": {},
   "outputs": [],
   "source": [
    "df['marital-status'].replace('Never-married', 'NotMarried',inplace=True)\n",
    "df['marital-status'].replace(['Married-AF-spouse'], 'Married',inplace=True)\n",
    "df['marital-status'].replace(['Married-civ-spouse'], 'Married',inplace=True)\n",
    "df['marital-status'].replace(['Married-spouse-absent'], 'NotMarried',inplace=True)\n",
    "df['marital-status'].replace(['Separated'], 'Separated',inplace=True)\n",
    "df['marital-status'].replace(['Divorced'], 'Separated',inplace=True)\n",
    "df['marital-status'].replace(['Widowed'], 'Widowed',inplace=True)"
   ]
  },
  {
   "cell_type": "code",
   "execution_count": 233,
   "id": "18aad0f9-619b-4f41-ae84-364ff06beaf9",
   "metadata": {},
   "outputs": [
    {
     "data": {
      "text/plain": [
       "<seaborn.axisgrid.FacetGrid at 0x1a4b721b760>"
      ]
     },
     "execution_count": 233,
     "metadata": {},
     "output_type": "execute_result"
    },
    {
     "data": {
      "image/png": "[encoded data removed]",
      "text/plain": [
       "<Figure size 618.375x288 with 2 Axes>"
      ]
     },
     "metadata": {
      "needs_background": "light"
     },
     "output_type": "display_data"
    }
   ],
   "source": [
    "sns.displot(data=df, x='marital-status', hue='target', col='target',  kde=False, height=4)"
   ]
  },
  {
   "cell_type": "markdown",
   "id": "3e40340b-ace7-45a0-82d8-a88a9800d270",
   "metadata": {},
   "source": [
    "#### Native-country"
   ]
  },
  {
   "cell_type": "code",
   "execution_count": 85,
   "id": "7b19f143-6b25-4351-907c-f9ebc317e40e",
   "metadata": {},
   "outputs": [],
   "source": [
    "df['native-country'].replace([\"Canada\", \"Cuba\", \"Dominican-Republic\", \"El-Salvador\", \"Guatemala\",\n",
    "                               \"Haiti\", \"Honduras\", \"Jamaica\", \"Mexico\", \"Nicaragua\",\n",
    "                               \"Outlying-US(Guam-USVI-etc)\", \"Puerto-Rico\", \"Trinadad&Tobago\",\n",
    "                               \"United-States\"], \n",
    "                              'North America',inplace=True)\n",
    "df['native-country'].replace([\"Cambodia\", \"China\", \"Hong\", \"India\", \"Iran\", \"Japan\", \"Laos\",\n",
    "                              \"Philippines\", \"Taiwan\", \"Thailand\", \"Vietnam\"], \n",
    "                              'Asia', inplace=True)\n",
    "df['native-country'].replace([\"Columbia\", \"Ecuador\", \"Peru\"], \n",
    "                              'South America',inplace=True)\n",
    "df['native-country'].replace([\"England\", \"France\", \"Germany\", \"Greece\", \"Holand-Netherlands\",\n",
    "                                \"Hungary\", \"Ireland\", \"Italy\", \"Poland\", \"Portugal\", \"Scotland\",\n",
    "                                \"Yugoslavia\"], \n",
    "                              'Europe',inplace=True)\n",
    "# df = df.reset_index()\n",
    "df.dropna(inplace=True)"
   ]
  },
  {
   "cell_type": "code",
   "execution_count": 174,
   "id": "03fd4572-4522-4a33-bbfc-c96d03c1bc96",
   "metadata": {},
   "outputs": [
    {
     "data": {
      "text/plain": [
       "<seaborn.axisgrid.FacetGrid at 0x1a4a51fd280>"
      ]
     },
     "execution_count": 174,
     "metadata": {},
     "output_type": "execute_result"
    },
    {
     "data": {
      "text/plain": [
       "<Figure size 1440x1080 with 0 Axes>"
      ]
     },
     "metadata": {},
     "output_type": "display_data"
    },
    {
     "data": {
      "image/png": "[encoded data removed]",
      "text/plain": [
       "<Figure size 762.375x360 with 2 Axes>"
      ]
     },
     "metadata": {
      "needs_background": "light"
     },
     "output_type": "display_data"
    }
   ],
   "source": [
    "fig = plt.figure(figsize=(20,15)) \n",
    "sns.displot(data=df, x='native-country', hue='target', col='target',  kde=False)"
   ]
  },
  {
   "cell_type": "markdown",
   "id": "5c881010-d772-425e-b45e-700134b6cb15",
   "metadata": {},
   "source": [
    "#### Age"
   ]
  },
  {
   "cell_type": "code",
   "execution_count": 86,
   "id": "76806b45-653f-471b-b9c4-41f9235579c5",
   "metadata": {},
   "outputs": [
    {
     "data": {
      "text/plain": [
       "<seaborn.axisgrid.FacetGrid at 0x1a4a328c9d0>"
      ]
     },
     "execution_count": 86,
     "metadata": {},
     "output_type": "execute_result"
    },
    {
     "data": {
      "text/plain": [
       "<Figure size 1440x1080 with 0 Axes>"
      ]
     },
     "metadata": {},
     "output_type": "display_data"
    },
    {
     "data": {
      "image/png": "[encoded data removed]",
      "text/plain": [
       "<Figure size 762.375x360 with 2 Axes>"
      ]
     },
     "metadata": {
      "needs_background": "light"
     },
     "output_type": "display_data"
    }
   ],
   "source": [
    "fig = plt.figure(figsize=(20,15)) \n",
    "sns.displot(data=df, x='age', hue='target', col='target',  kde=True)"
   ]
  },
  {
   "cell_type": "markdown",
   "id": "2f5fc422-461e-4614-ade8-0abc249df7c9",
   "metadata": {},
   "source": [
    "#### Occupation"
   ]
  },
  {
   "cell_type": "code",
   "execution_count": 227,
   "id": "20f1193b-b278-495d-9ead-9500c74db198",
   "metadata": {},
   "outputs": [
    {
     "data": {
      "image/png": "[encoded data removed]",
      "text/plain": [
       "<Figure size 432x288 with 1 Axes>"
      ]
     },
     "metadata": {
      "needs_background": "light"
     },
     "output_type": "display_data"
    }
   ],
   "source": [
    "occupation_counts = (df.groupby(['target'])['occupation']\n",
    "                     .value_counts(normalize=True)\n",
    "                     .rename('percentage')\n",
    "                     .mul(100)\n",
    "                     .reset_index()\n",
    "                     .sort_values('occupation'))\n",
    "p = sns.barplot(x=\"occupation\", y=\"percentage\", hue=\"target\", data=occupation_counts)\n",
    "_ = plt.setp(p.get_xticklabels(), rotation=90) "
   ]
  },
  {
   "cell_type": "code",
   "execution_count": 91,
   "id": "6f0c7eec-a9dc-4ce0-a72f-3f4b2abeee5f",
   "metadata": {},
   "outputs": [],
   "source": [
    "df.dropna(inplace=True)"
   ]
  },
  {
   "cell_type": "markdown",
   "id": "321fe278-5abb-474a-88c6-24daab88a0a8",
   "metadata": {},
   "source": [
    "#### Train-validation split"
   ]
  },
  {
   "cell_type": "code",
   "execution_count": 148,
   "id": "786d5abf-8927-40a8-b516-a6a8fb5e0849",
   "metadata": {},
   "outputs": [],
   "source": [
    "X, y = df.drop('target', axis=1), df['target']\n",
    "X_train, X_val, y_train, y_val = model_selection.train_test_split(X, y, shuffle=True, random_state=2021)"
   ]
  },
  {
   "cell_type": "markdown",
   "id": "6273281b-405b-43d5-952b-f0ca6d42ade7",
   "metadata": {},
   "source": [
    "#### Baseline"
   ]
  },
  {
   "cell_type": "code",
   "execution_count": 155,
   "id": "cee687a7-8fdb-4a6e-bb8d-9150dbdfc651",
   "metadata": {},
   "outputs": [
    {
     "name": "stdout",
     "output_type": "stream",
     "text": [
      "Mean roc_auc: 0.500 (0.000)\n",
      "Mean accuracy: 0.751 (0.000)\n"
     ]
    }
   ],
   "source": [
    "from sklearn.dummy import DummyClassifier\n",
    "from sklearn.model_selection import RepeatedStratifiedKFold\n",
    "from sklearn.metrics import roc_auc_score, accuracy_score\n",
    "\n",
    "dummy_model = DummyClassifier(strategy='most_frequent')\n",
    "\n",
    "cv = RepeatedStratifiedKFold(n_splits=10, n_repeats=3, random_state=42)\n",
    "scores = cross_val_score(dummy_model, X, y, scoring='roc_auc', cv=cv, n_jobs=-1)\n",
    "print('Mean roc_auc: %.3f (%.3f)' % (np.mean(scores), np.std(scores)))\n",
    "\n",
    "scores = cross_val_score(dummy_model, X, y, scoring='accuracy', cv=cv, n_jobs=-1)\n",
    "print('Mean accuracy: %.3f (%.3f)' % (np.mean(scores), np.std(scores)))"
   ]
  },
  {
   "cell_type": "markdown",
   "id": "41d0bd5a-2d18-417f-922c-a81dc2f5c48a",
   "metadata": {},
   "source": [
    "#### Model selection"
   ]
  },
  {
   "cell_type": "code",
   "execution_count": 93,
   "id": "8d229893-8571-49db-aca6-c1e66ccc77cd",
   "metadata": {},
   "outputs": [
    {
     "name": "stdout",
     "output_type": "stream",
     "text": [
      "Decision Trees Mean Accuracy: 0.748 (0.009)\n",
      "SVM Mean Accuracy: 0.889 (0.006)\n",
      "BAG Mean Accuracy: 0.903 (0.006)\n",
      "Random Forest Mean Accuracy: 0.902 (0.006)\n",
      "GBM Mean Accuracy: 0.920 (0.005)\n"
     ]
    }
   ],
   "source": [
    "from sklearn.tree import DecisionTreeClassifier\n",
    "from sklearn.svm import SVC\n",
    "from sklearn.ensemble import RandomForestClassifier\n",
    "from sklearn.ensemble import GradientBoostingClassifier\n",
    "from sklearn.ensemble import BaggingClassifier\n",
    "from sklearn.compose import ColumnTransformer\n",
    "from sklearn.pipeline import Pipeline\n",
    "\n",
    "models, names = [], []\n",
    "# Decision Trees\n",
    "models.append(DecisionTreeClassifier())\n",
    "names.append('Decision Trees')\n",
    "# SVM\n",
    "models.append(SVC(gamma='scale'))\n",
    "names.append('SVM')\n",
    "# Bagging\n",
    "models.append(BaggingClassifier(n_estimators=100))\n",
    "names.append('BAG')\n",
    "# Random Forest\n",
    "models.append(RandomForestClassifier(n_estimators=100))\n",
    "names.append('Random Forest')\n",
    "# GBM\n",
    "models.append(GradientBoostingClassifier(n_estimators=100))\n",
    "names.append('GBM')\n",
    "\n",
    "categorial_idx=[df.columns.get_loc(c) for c in categorial_columns if c in X_train]\n",
    "scale_idx=[df.columns.get_loc(c) for c in scale_columns if c in X_train]\n",
    "\n",
    "transforms = [('categorial', OneHotEncoder(handle_unknown='ignore'), categorial_idx), \n",
    "         ('norm', MinMaxScaler(), scale_idx)]\n",
    "ct = ColumnTransformer(transforms)\n",
    "\n",
    "res = []\n",
    "for model, name in zip(models, names):\n",
    "    pipe = Pipeline(steps=[('transform', ct),('model', model)])\n",
    "    cv = RepeatedStratifiedKFold(n_splits=10, n_repeats=3, random_state=42)\n",
    "    scores = cross_val_score(pipe, X, y, scoring='roc_auc', cv=cv, n_jobs=-1)\n",
    "    print('%s Mean ROC AUC: %.3f (%.3f)' % (name, np.mean(scores), np.std(scores)))\n",
    "    \n",
    "    \n"
   ]
  },
  {
   "cell_type": "markdown",
   "id": "14f8a256-b5f5-4558-b3f4-60fd34440b27",
   "metadata": {},
   "source": [
    "#### Hyperparameters selection"
   ]
  },
  {
   "cell_type": "code",
   "execution_count": 160,
   "id": "e41673d9-72b5-4835-8b7b-37cf8359279e",
   "metadata": {},
   "outputs": [
    {
     "name": "stdout",
     "output_type": "stream",
     "text": [
      "[LightGBM] [Warning] Auto-choosing row-wise multi-threading, the overhead of testing was 0.001056 seconds.\n",
      "You can set `force_row_wise=true` to remove the overhead.\n",
      "And if memory is not enough, you can set `force_col_wise=true`.\n",
      "0.903245 (0.006136) with: {'model__learning_rate': 0.01, 'model__n_estimators': 20, 'model__scale_pos_weight': 1}\n",
      "0.902874 (0.006339) with: {'model__learning_rate': 0.01, 'model__n_estimators': 20, 'model__scale_pos_weight': 3}\n",
      "0.896195 (0.005695) with: {'model__learning_rate': 0.01, 'model__n_estimators': 20, 'model__scale_pos_weight': 10}\n",
      "0.905988 (0.006330) with: {'model__learning_rate': 0.01, 'model__n_estimators': 40, 'model__scale_pos_weight': 1}\n",
      "0.905171 (0.006135) with: {'model__learning_rate': 0.01, 'model__n_estimators': 40, 'model__scale_pos_weight': 3}\n",
      "0.897785 (0.005520) with: {'model__learning_rate': 0.01, 'model__n_estimators': 40, 'model__scale_pos_weight': 10}\n",
      "0.911258 (0.005968) with: {'model__learning_rate': 0.01, 'model__n_estimators': 100, 'model__scale_pos_weight': 1}\n",
      "0.911474 (0.005571) with: {'model__learning_rate': 0.01, 'model__n_estimators': 100, 'model__scale_pos_weight': 3}\n",
      "0.902750 (0.005313) with: {'model__learning_rate': 0.01, 'model__n_estimators': 100, 'model__scale_pos_weight': 10}\n",
      "0.917670 (0.005272) with: {'model__learning_rate': 0.01, 'model__n_estimators': 200, 'model__scale_pos_weight': 1}\n",
      "0.917336 (0.005144) with: {'model__learning_rate': 0.01, 'model__n_estimators': 200, 'model__scale_pos_weight': 3}\n",
      "0.912896 (0.004716) with: {'model__learning_rate': 0.01, 'model__n_estimators': 200, 'model__scale_pos_weight': 10}\n",
      "0.917706 (0.005360) with: {'model__learning_rate': 0.1, 'model__n_estimators': 20, 'model__scale_pos_weight': 1}\n",
      "0.917404 (0.005066) with: {'model__learning_rate': 0.1, 'model__n_estimators': 20, 'model__scale_pos_weight': 3}\n",
      "0.912397 (0.004878) with: {'model__learning_rate': 0.1, 'model__n_estimators': 20, 'model__scale_pos_weight': 10}\n",
      "0.924028 (0.004893) with: {'model__learning_rate': 0.1, 'model__n_estimators': 40, 'model__scale_pos_weight': 1}\n",
      "0.924139 (0.004680) with: {'model__learning_rate': 0.1, 'model__n_estimators': 40, 'model__scale_pos_weight': 3}\n",
      "0.922825 (0.004543) with: {'model__learning_rate': 0.1, 'model__n_estimators': 40, 'model__scale_pos_weight': 10}\n",
      "0.927421 (0.004718) with: {'model__learning_rate': 0.1, 'model__n_estimators': 100, 'model__scale_pos_weight': 1}\n",
      "0.927835 (0.004491) with: {'model__learning_rate': 0.1, 'model__n_estimators': 100, 'model__scale_pos_weight': 3}\n",
      "0.927378 (0.004384) with: {'model__learning_rate': 0.1, 'model__n_estimators': 100, 'model__scale_pos_weight': 10}\n",
      "0.927165 (0.004724) with: {'model__learning_rate': 0.1, 'model__n_estimators': 200, 'model__scale_pos_weight': 1}\n",
      "0.927104 (0.004469) with: {'model__learning_rate': 0.1, 'model__n_estimators': 200, 'model__scale_pos_weight': 3}\n",
      "0.926317 (0.004519) with: {'model__learning_rate': 0.1, 'model__n_estimators': 200, 'model__scale_pos_weight': 10}\n",
      "0.910048 (0.005695) with: {'model__learning_rate': 1, 'model__n_estimators': 20, 'model__scale_pos_weight': 1}\n",
      "0.910258 (0.007527) with: {'model__learning_rate': 1, 'model__n_estimators': 20, 'model__scale_pos_weight': 3}\n",
      "0.906679 (0.006453) with: {'model__learning_rate': 1, 'model__n_estimators': 20, 'model__scale_pos_weight': 10}\n",
      "0.904830 (0.005140) with: {'model__learning_rate': 1, 'model__n_estimators': 40, 'model__scale_pos_weight': 1}\n",
      "0.901798 (0.009868) with: {'model__learning_rate': 1, 'model__n_estimators': 40, 'model__scale_pos_weight': 3}\n",
      "0.898968 (0.007614) with: {'model__learning_rate': 1, 'model__n_estimators': 40, 'model__scale_pos_weight': 10}\n",
      "0.868828 (0.017150) with: {'model__learning_rate': 1, 'model__n_estimators': 100, 'model__scale_pos_weight': 1}\n",
      "0.861708 (0.017887) with: {'model__learning_rate': 1, 'model__n_estimators': 100, 'model__scale_pos_weight': 3}\n",
      "0.857084 (0.016745) with: {'model__learning_rate': 1, 'model__n_estimators': 100, 'model__scale_pos_weight': 10}\n",
      "0.767504 (0.049305) with: {'model__learning_rate': 1, 'model__n_estimators': 200, 'model__scale_pos_weight': 1}\n",
      "0.735767 (0.050468) with: {'model__learning_rate': 1, 'model__n_estimators': 200, 'model__scale_pos_weight': 3}\n",
      "0.743477 (0.057813) with: {'model__learning_rate': 1, 'model__n_estimators': 200, 'model__scale_pos_weight': 10}\n",
      "Best: 0.927835 using {'model__learning_rate': 0.1, 'model__n_estimators': 100, 'model__scale_pos_weight': 3}\n"
     ]
    }
   ],
   "source": [
    "import lightgbm as lgb\n",
    "from sklearn.preprocessing import MinMaxScaler\n",
    "from sklearn.preprocessing import OneHotEncoder\n",
    "from sklearn.preprocessing import StandardScaler\n",
    "from sklearn.model_selection import GridSearchCV\n",
    "\n",
    "param_grid = {\n",
    "    'model__learning_rate': [0.01, 0.1, 1],\n",
    "    'model__n_estimators': [20, 40, 100, 200],\n",
    "    'model__scale_pos_weight' : [1, 3, 10],    \n",
    "}\n",
    "\n",
    "categorial_idx=[df.columns.get_loc(c) for c in categorial_columns if c in X_train]\n",
    "scale_idx=[df.columns.get_loc(c) for c in scale_columns if c in X_train]\n",
    "\n",
    "transforms = [('categorial', OneHotEncoder(handle_unknown='ignore'), categorial_idx), \n",
    "         ('norm', MinMaxScaler(), scale_idx)]\n",
    "ct = ColumnTransformer(transforms)\n",
    "\n",
    "\n",
    "model = lgb.LGBMClassifier(scale_pos_weight=3, \n",
    "                           n_estimators=100, \n",
    "                           learning_rate=0.1, \n",
    "                           random_state=2021, \n",
    "                           verbose=0)\n",
    "pipe = Pipeline(steps=[('transform', ct),('model', model)])\n",
    "\n",
    "grid = GridSearchCV(estimator=pipe, param_grid=param_grid, n_jobs=-1, cv=cv, scoring='roc_auc')\n",
    "grid_result = grid.fit(X, y)\n",
    "\n",
    "means = grid_result.cv_results_['mean_test_score']\n",
    "stds = grid_result.cv_results_['std_test_score']\n",
    "params = grid_result.cv_results_['params']\n",
    "for mean, stdev, param in zip(means, stds, params):\n",
    "    print(\"%f (%f) with: %r\" % (mean, stdev, param))\n",
    "\n",
    "print(\"Best: %f using %s\" % (grid_result.best_score_, grid_result.best_params_))"
   ]
  },
  {
   "cell_type": "markdown",
   "id": "1e34eaaf-8722-44c2-83b6-a56fbbdde304",
   "metadata": {},
   "source": [
    "#### Cross validation"
   ]
  },
  {
   "cell_type": "code",
   "execution_count": 161,
   "id": "3cae8d4d-aa34-44b7-af4d-f77ed9dc7cbd",
   "metadata": {},
   "outputs": [
    {
     "name": "stdout",
     "output_type": "stream",
     "text": [
      "LGBMClassifier Mean roc_auc: 0.926 (0.006)\n",
      "LGBMClassifier Mean accuracy: 0.833 (0.007)\n"
     ]
    }
   ],
   "source": [
    "from sklearn.model_selection import cross_val_score\n",
    "\n",
    "categorial_idx=[df.columns.get_loc(c) for c in categorial_columns if c in X_train]\n",
    "scale_idx=[df.columns.get_loc(c) for c in scale_columns if c in X_train]\n",
    "\n",
    "transforms = [('categorial', OneHotEncoder(handle_unknown='ignore'), categorial_idx), \n",
    "         ('norm', MinMaxScaler(), scale_idx)]\n",
    "ct = ColumnTransformer(transforms)\n",
    "\n",
    "\n",
    "model = lgb.LGBMClassifier(scale_pos_weight=3, \n",
    "                           n_estimators=100, \n",
    "                           learning_rate=0.1, \n",
    "                           random_state=2021, \n",
    "                           verbose=0)\n",
    "pipe = Pipeline(steps=[('transform', ct),('model', model)])\n",
    "\n",
    "cv = RepeatedStratifiedKFold(n_splits=10, n_repeats=3, random_state=42)\n",
    "\n",
    "scores = cross_val_score(pipe, X_train, y_train, scoring='roc_auc', cv=cv, n_jobs=-1)\n",
    "print('%s Mean ROC AUC: %.3f (%.3f)' % ('LGBMClassifier', np.mean(scores), np.std(scores)))\n",
    "scores = cross_val_score(pipe, X_train, y_train, scoring='accuracy', cv=cv, n_jobs=-1)\n",
    "print('%s Mean accuracy: %.3f (%.3f)' % ('LGBMClassifier', np.mean(scores), np.std(scores)))"
   ]
  },
  {
   "cell_type": "markdown",
   "id": "2823b258-1364-44b9-a778-1a2cf69b8b8f",
   "metadata": {},
   "source": [
    "#### Validation metrics"
   ]
  },
  {
   "cell_type": "code",
   "execution_count": 164,
   "id": "dc0d8941-98dc-4886-9fef-af6eb95743fe",
   "metadata": {},
   "outputs": [
    {
     "name": "stdout",
     "output_type": "stream",
     "text": [
      "[LightGBM] [Warning] Auto-choosing row-wise multi-threading, the overhead of testing was 0.000834 seconds.\n",
      "You can set `force_row_wise=true` to remove the overhead.\n",
      "And if memory is not enough, you can set `force_col_wise=true`.\n",
      "LGBMClassifier test roc_auc: 0.841\n",
      "LGBMClassifier test accuracy: 0.836\n"
     ]
    },
    {
     "data": {
      "text/plain": [
       "<sklearn.metrics._plot.roc_curve.RocCurveDisplay at 0x1a4a3edd610>"
      ]
     },
     "execution_count": 164,
     "metadata": {},
     "output_type": "execute_result"
    },
    {
     "data": {
      "image/png": "[encoded data removed]",
      "text/plain": [
       "<Figure size 432x288 with 2 Axes>"
      ]
     },
     "metadata": {
      "needs_background": "light"
     },
     "output_type": "display_data"
    },
    {
     "data": {
      "image/png": "[encoded data removed]",
      "text/plain": [
       "<Figure size 432x288 with 1 Axes>"
      ]
     },
     "metadata": {
      "needs_background": "light"
     },
     "output_type": "display_data"
    }
   ],
   "source": [
    "from sklearn.metrics import plot_confusion_matrix, plot_roc_curve\n",
    "\n",
    "pipe.fit(X_train, y_train)\n",
    "y_pred = pipe.predict(X_val)\n",
    "roc_auc_test = roc_auc_score(y_val, y_pred)\n",
    "accuracy_test = accuracy_score(y_val, y_pred)\n",
    "confusion_matrix_test = confusion_matrix(y_val, y_pred)\n",
    "print('%s test ROC AUC: %.3f' % ('LGBMClassifier', roc_auc_test))\n",
    "print('%s test accuracy: %.3f' % ('LGBMClassifier', accuracy_test))\n",
    "plot_confusion_matrix(pipe, X_val, y_val)\n",
    "plot_roc_curve(pipe, X_val, y_val)"
   ]
  },
  {
   "cell_type": "markdown",
   "id": "4c55a9f4-1e82-409e-8df7-c054a2334812",
   "metadata": {},
   "source": [
    "#### Test metrics"
   ]
  },
  {
   "cell_type": "code",
   "execution_count": null,
   "id": "7f41c06c-9f11-4106-a805-93d1571c00b5",
   "metadata": {},
   "outputs": [],
   "source": [
    "names = [\n",
    "    'age', 'workclass', 'final_weight', 'education',\n",
    "    'education-num', 'marital-status', 'occupation',\n",
    "    'relationship', 'race', 'sex', 'cap-gain',\n",
    "    'cap-loss', 'hours-per-week', 'native-country',\n",
    "    'target'\n",
    "]\n",
    "df_test = pd.read_csv('./test.txt', names=names, dtype=dtypes, na_values=' ?')\n",
    "print(df_test.shape)\n",
    "# df_test.dropna(inplace=True)\n",
    "for col in categorial_columns:\n",
    "    df_test[col] = df_test[col].str.strip()\n",
    "\n",
    "\n",
    "df_test = df_test[df_test['age'] != 'fssafsa121321ewd1231e2']\n",
    "df_test['age'] = df_test['age'].astype('int') \n",
    "df_test = df_test[df_test['age'] > 1]\n",
    "\n",
    "# df_test['hours-per-week'] = df_test['hours-per-week'].str.strip()\n",
    "df_test['hours-per-week'] = df_test['hours-per-week'].astype('int') \n",
    "\n",
    "# df_test['education-num'] = df_test['education-num'].str.strip()\n",
    "df_test['education-num'] = df_test['education-num'].astype('int') \n",
    "\n",
    "# df_test = df_test[df_test['native-country'] != '>N']\n",
    "# df_test = df_test[df_test['target'] != np.nan]\n",
    "\n",
    "df_test['target'] = df_test['target'].map({'<=N.': 0, '>N.': 1})\n",
    "\n",
    "df_test['education'].replace('Preschool', 'dropout',inplace=True)\n",
    "df_test['education'].replace('10th', 'dropout',inplace=True)\n",
    "df_test['education'].replace('11th', 'dropout',inplace=True)\n",
    "df_test['education'].replace('12th', 'dropout',inplace=True)\n",
    "df_test['education'].replace('1st-4th', 'dropout',inplace=True)\n",
    "df_test['education'].replace('5th-6th', 'dropout',inplace=True)\n",
    "df_test['education'].replace('7th-8th', 'dropout',inplace=True)\n",
    "df_test['education'].replace('9th', 'dropout',inplace=True)\n",
    "df_test['education'].replace('HS-Grad', 'HS-Grad',inplace=True)\n",
    "df_test['education'].replace('HS-grad', 'HS-Grad',inplace=True)\n",
    "df_test['education'].replace('Some-college', 'College',inplace=True)\n",
    "df_test['education'].replace('Assoc-acdm', 'College',inplace=True)\n",
    "df_test['education'].replace('Assoc-voc', 'College',inplace=True)\n",
    "df_test['education'].replace('Bachelors', 'Bachelors',inplace=True)\n",
    "df_test['education'].replace('Masters', 'Masters',inplace=True)\n",
    "df_test['education'].replace('Prof-school', 'Masters',inplace=True)\n",
    "df_test['education'].replace('Doctorate', 'Doctorate',inplace=True)\n",
    "\n",
    "df_test['marital-status'].replace('Never-married', 'NotMarried',inplace=True)\n",
    "df_test['marital-status'].replace(['Married-AF-spouse'], 'Married',inplace=True)\n",
    "df_test['marital-status'].replace(['Married-civ-spouse'], 'Married',inplace=True)\n",
    "df_test['marital-status'].replace(['Married-spouse-absent'], 'NotMarried',inplace=True)\n",
    "df_test['marital-status'].replace(['Separated'], 'Separated',inplace=True)\n",
    "df_test['marital-status'].replace(['Divorced'], 'Separated',inplace=True)\n",
    "df_test['marital-status'].replace(['Widowed'], 'Widowed',inplace=True)\n",
    "\n",
    "df_test['native-country'].replace([\"Canada\", \"Cuba\", \"Dominican-Republic\", \"El-Salvador\", \"Guatemala\",\n",
    "                               \"Haiti\", \"Honduras\", \"Jamaica\", \"Mexico\", \"Nicaragua\",\n",
    "                               \"Outlying-US(Guam-USVI-etc)\", \"Puerto-Rico\", \"Trinadad&Tobago\",\n",
    "                               \"United-States\"], \n",
    "                              'North America',inplace=True)\n",
    "df_test['native-country'].replace([\"Cambodia\", \"China\", \"Hong\", \"India\", \"Iran\", \"Japan\", \"Laos\",\n",
    "                              \"Philippines\", \"Taiwan\", \"Thailand\", \"Vietnam\"], \n",
    "                              'Asia', inplace=True)\n",
    "df_test['native-country'].replace([\"Columbia\", \"Ecuador\", \"Peru\"], \n",
    "                              'South America',inplace=True)\n",
    "df_test['native-country'].replace([\"England\", \"France\", \"Germany\", \"Greece\", \"Holand-Netherlands\",\n",
    "                                \"Hungary\", \"Ireland\", \"Italy\", \"Poland\", \"Portugal\", \"Scotland\",\n",
    "                                \"Yugoslavia\"], \n",
    "                              'Europe',inplace=True)\n",
    "# df_test = df_test.reset_index()\n",
    "# df_test.dropna(inplace=True)"
   ]
  },
  {
   "cell_type": "code",
   "execution_count": 168,
   "id": "71a520ac-c0c2-45bb-be3c-a99510d66652",
   "metadata": {},
   "outputs": [
    {
     "name": "stdout",
     "output_type": "stream",
     "text": [
      "LGBMClassifier test roc_auc: 0.841\n",
      "LGBMClassifier test accuracy: 0.835\n"
     ]
    },
    {
     "data": {
      "text/plain": [
       "<sklearn.metrics._plot.roc_curve.RocCurveDisplay at 0x1a4a2e5ed00>"
      ]
     },
     "execution_count": 168,
     "metadata": {},
     "output_type": "execute_result"
    },
    {
     "data": {
      "image/png": "[encoded data removed]",
      "text/plain": [
       "<Figure size 432x288 with 2 Axes>"
      ]
     },
     "metadata": {
      "needs_background": "light"
     },
     "output_type": "display_data"
    },
    {
     "data": {
      "image/png": "[encoded data removed]",
      "text/plain": [
       "<Figure size 432x288 with 1 Axes>"
      ]
     },
     "metadata": {
      "needs_background": "light"
     },
     "output_type": "display_data"
    }
   ],
   "source": [
    "X_test, y_test = df_test.drop('target', axis=1), df_test['target']\n",
    "\n",
    "y_pred = pipe.predict(X_test)\n",
    "roc_auc_test = roc_auc_score(y_test, y_pred)\n",
    "accuracy_test = accuracy_score(y_test, y_pred)\n",
    "confusion_matrix_test = confusion_matrix(y_test, y_pred)\n",
    "print('%s test ROC AUC: %.3f' % ('LGBMClassifier', roc_auc_test))\n",
    "print('%s test accuracy: %.3f' % ('LGBMClassifier', accuracy_test))\n",
    "plot_confusion_matrix(pipe, X_test, y_test)\n",
    "plot_roc_curve(pipe, X_test, y_test)"
   ]
  }
 ],
 "metadata": {
  "kernelspec": {
   "display_name": "Python 3",
   "language": "python",
   "name": "python3"
  },
  "language_info": {
   "codemirror_mode": {
    "name": "ipython",
    "version": 3
   },
   "file_extension": ".py",
   "mimetype": "text/x-python",
   "name": "python",
   "nbconvert_exporter": "python",
   "pygments_lexer": "ipython3",
   "version": "3.8.5"
  }
 },
 "nbformat": 4,
 "nbformat_minor": 5
}
